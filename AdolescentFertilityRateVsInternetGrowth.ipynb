{
 "cells": [
  {
   "cell_type": "markdown",
   "metadata": {},
   "source": [
    "# DOES INTERNET GROWTH HAS CORRELATION WITH ADOLESCENT FERTILITY RATE?"
   ]
  },
  {
   "cell_type": "markdown",
   "metadata": {},
   "source": [
    "#### Import libraries"
   ]
  },
  {
   "cell_type": "code",
   "execution_count": null,
   "metadata": {
    "collapsed": true
   },
   "outputs": [],
   "source": [
    "import pandas as pd\n",
    "from pandas import ExcelWriter\n",
    "from pandas import ExcelFile\n",
    "import numpy as np\n",
    "import matplotlib.pyplot as plt\n",
    "import plotly as py\n",
    "import plotly.graph_objs as go\n",
    "\n",
    "\n",
    "# Growth of internet data: https://ourworldindata.org/internet\n",
    "# Adolescent fertility rate data: https://data.worldbank.org/indicator/SP.ADO.TFR"
   ]
  },
  {
   "cell_type": "markdown",
   "metadata": {},
   "source": [
    "#### Read and clean Internet Growth Data"
   ]
  },
  {
   "cell_type": "code",
   "execution_count": 2,
   "metadata": {
    "collapsed": false
   },
   "outputs": [
    {
     "data": {
      "text/html": [
       "<div>\n",
       "<table border=\"1\" class=\"dataframe\">\n",
       "  <thead>\n",
       "    <tr style=\"text-align: right;\">\n",
       "      <th></th>\n",
       "      <th>Country Name</th>\n",
       "      <th>Country Code</th>\n",
       "      <th>1996</th>\n",
       "      <th>1997</th>\n",
       "      <th>1998</th>\n",
       "      <th>1999</th>\n",
       "      <th>2000</th>\n",
       "      <th>2001</th>\n",
       "      <th>2002</th>\n",
       "      <th>2003</th>\n",
       "      <th>...</th>\n",
       "      <th>2006</th>\n",
       "      <th>2007</th>\n",
       "      <th>2008</th>\n",
       "      <th>2009</th>\n",
       "      <th>2010</th>\n",
       "      <th>2011</th>\n",
       "      <th>2012</th>\n",
       "      <th>2013</th>\n",
       "      <th>2014</th>\n",
       "      <th>2015</th>\n",
       "    </tr>\n",
       "  </thead>\n",
       "  <tbody>\n",
       "    <tr>\n",
       "      <th>0</th>\n",
       "      <td>Aruba</td>\n",
       "      <td>ABW</td>\n",
       "      <td>47.669200</td>\n",
       "      <td>47.304000</td>\n",
       "      <td>46.067000</td>\n",
       "      <td>44.830000</td>\n",
       "      <td>43.593000</td>\n",
       "      <td>42.3560</td>\n",
       "      <td>41.119000</td>\n",
       "      <td>39.667600</td>\n",
       "      <td>...</td>\n",
       "      <td>35.313400</td>\n",
       "      <td>33.862000</td>\n",
       "      <td>32.792000</td>\n",
       "      <td>31.72200</td>\n",
       "      <td>30.652000</td>\n",
       "      <td>29.582000</td>\n",
       "      <td>28.512000</td>\n",
       "      <td>27.095000</td>\n",
       "      <td>25.678000</td>\n",
       "      <td>24.261000</td>\n",
       "    </tr>\n",
       "    <tr>\n",
       "      <th>1</th>\n",
       "      <td>Afghanistan</td>\n",
       "      <td>AFG</td>\n",
       "      <td>164.968200</td>\n",
       "      <td>165.228000</td>\n",
       "      <td>161.469000</td>\n",
       "      <td>157.710000</td>\n",
       "      <td>153.951000</td>\n",
       "      <td>150.1920</td>\n",
       "      <td>146.433000</td>\n",
       "      <td>140.625600</td>\n",
       "      <td>...</td>\n",
       "      <td>123.203400</td>\n",
       "      <td>117.396000</td>\n",
       "      <td>111.141400</td>\n",
       "      <td>104.88680</td>\n",
       "      <td>98.632200</td>\n",
       "      <td>92.377600</td>\n",
       "      <td>86.123000</td>\n",
       "      <td>81.790800</td>\n",
       "      <td>77.458600</td>\n",
       "      <td>73.126400</td>\n",
       "    </tr>\n",
       "    <tr>\n",
       "      <th>2</th>\n",
       "      <td>Angola</td>\n",
       "      <td>AGO</td>\n",
       "      <td>204.600000</td>\n",
       "      <td>202.500000</td>\n",
       "      <td>200.566400</td>\n",
       "      <td>198.632800</td>\n",
       "      <td>196.699200</td>\n",
       "      <td>194.7656</td>\n",
       "      <td>192.832000</td>\n",
       "      <td>190.511400</td>\n",
       "      <td>...</td>\n",
       "      <td>183.549600</td>\n",
       "      <td>181.229000</td>\n",
       "      <td>178.184200</td>\n",
       "      <td>175.13940</td>\n",
       "      <td>172.094600</td>\n",
       "      <td>169.049800</td>\n",
       "      <td>166.005000</td>\n",
       "      <td>163.121800</td>\n",
       "      <td>160.238600</td>\n",
       "      <td>157.355400</td>\n",
       "    </tr>\n",
       "    <tr>\n",
       "      <th>3</th>\n",
       "      <td>Albania</td>\n",
       "      <td>ALB</td>\n",
       "      <td>19.210600</td>\n",
       "      <td>19.330000</td>\n",
       "      <td>19.232400</td>\n",
       "      <td>19.134800</td>\n",
       "      <td>19.037200</td>\n",
       "      <td>18.9396</td>\n",
       "      <td>18.842000</td>\n",
       "      <td>18.765000</td>\n",
       "      <td>...</td>\n",
       "      <td>18.534000</td>\n",
       "      <td>18.457000</td>\n",
       "      <td>18.911600</td>\n",
       "      <td>19.36620</td>\n",
       "      <td>19.820800</td>\n",
       "      <td>20.275400</td>\n",
       "      <td>20.730000</td>\n",
       "      <td>20.717400</td>\n",
       "      <td>20.704800</td>\n",
       "      <td>20.692200</td>\n",
       "    </tr>\n",
       "    <tr>\n",
       "      <th>5</th>\n",
       "      <td>Arab World</td>\n",
       "      <td>ARB</td>\n",
       "      <td>58.765736</td>\n",
       "      <td>56.590186</td>\n",
       "      <td>55.740068</td>\n",
       "      <td>54.932888</td>\n",
       "      <td>54.169817</td>\n",
       "      <td>53.3134</td>\n",
       "      <td>52.485719</td>\n",
       "      <td>52.034597</td>\n",
       "      <td>...</td>\n",
       "      <td>50.877275</td>\n",
       "      <td>50.543387</td>\n",
       "      <td>50.316994</td>\n",
       "      <td>50.10461</td>\n",
       "      <td>49.900118</td>\n",
       "      <td>49.723757</td>\n",
       "      <td>49.539074</td>\n",
       "      <td>49.111244</td>\n",
       "      <td>48.647539</td>\n",
       "      <td>48.114552</td>\n",
       "    </tr>\n",
       "  </tbody>\n",
       "</table>\n",
       "<p>5 rows × 22 columns</p>\n",
       "</div>"
      ],
      "text/plain": [
       "  Country Name Country Code        1996        1997        1998        1999  \\\n",
       "0        Aruba          ABW   47.669200   47.304000   46.067000   44.830000   \n",
       "1  Afghanistan          AFG  164.968200  165.228000  161.469000  157.710000   \n",
       "2       Angola          AGO  204.600000  202.500000  200.566400  198.632800   \n",
       "3      Albania          ALB   19.210600   19.330000   19.232400   19.134800   \n",
       "5   Arab World          ARB   58.765736   56.590186   55.740068   54.932888   \n",
       "\n",
       "         2000      2001        2002        2003     ...            2006  \\\n",
       "0   43.593000   42.3560   41.119000   39.667600     ...       35.313400   \n",
       "1  153.951000  150.1920  146.433000  140.625600     ...      123.203400   \n",
       "2  196.699200  194.7656  192.832000  190.511400     ...      183.549600   \n",
       "3   19.037200   18.9396   18.842000   18.765000     ...       18.534000   \n",
       "5   54.169817   53.3134   52.485719   52.034597     ...       50.877275   \n",
       "\n",
       "         2007        2008       2009        2010        2011        2012  \\\n",
       "0   33.862000   32.792000   31.72200   30.652000   29.582000   28.512000   \n",
       "1  117.396000  111.141400  104.88680   98.632200   92.377600   86.123000   \n",
       "2  181.229000  178.184200  175.13940  172.094600  169.049800  166.005000   \n",
       "3   18.457000   18.911600   19.36620   19.820800   20.275400   20.730000   \n",
       "5   50.543387   50.316994   50.10461   49.900118   49.723757   49.539074   \n",
       "\n",
       "         2013        2014        2015  \n",
       "0   27.095000   25.678000   24.261000  \n",
       "1   81.790800   77.458600   73.126400  \n",
       "2  163.121800  160.238600  157.355400  \n",
       "3   20.717400   20.704800   20.692200  \n",
       "5   49.111244   48.647539   48.114552  \n",
       "\n",
       "[5 rows x 22 columns]"
      ]
     },
     "execution_count": 2,
     "metadata": {},
     "output_type": "execute_result"
    }
   ],
   "source": [
    "# Reading fertility data\n",
    "pregnancy = pd.read_excel('C:/Users/PAVILION/Documents/UDACITY_BERTLESMAN/Project/HackatonWomen/adolescent/ado_data.xls', sheetname='Data')\n",
    "clean_data= pregnancy.drop(['Indicator Name','Indicator Code'], axis=1) #Drop unuseful columns\n",
    "clean_data=clean_data.iloc[:,:59] \n",
    "\n",
    "clean_data=clean_data.dropna() #Drop null values\n",
    "\n",
    "clean_data2= clean_data.drop(clean_data.iloc[:,2:38],axis=1)  #Select only years from 1996-2015\n",
    "clean_data2=clean_data2.iloc[:,:-1]\n",
    "clean_data2.head()"
   ]
  },
  {
   "cell_type": "markdown",
   "metadata": {},
   "source": [
    "#### Visualization of the data"
   ]
  },
  {
   "cell_type": "code",
   "execution_count": 22,
   "metadata": {
    "collapsed": false
   },
   "outputs": [
    {
     "data": {
      "text/plain": [
       "Text(0.5,1,'Adolescent Pregnancy over the years')"
      ]
     },
     "execution_count": 22,
     "metadata": {},
     "output_type": "execute_result"
    },
    {
     "data": {
      "image/png": "[encoded data removed]",
      "text/plain": [
       "<Figure size 432x288 with 1 Axes>"
      ]
     },
     "metadata": {},
     "output_type": "display_data"
    }
   ],
   "source": [
    "data= clean_data2.values #Get a numpy array\n",
    "x= [i for i in range(1996,2016)]\n",
    "ado_pregnancy= np.sum(data[:,2:],axis=0) #Suming data to get a worldwide value\n",
    "\n",
    "# Make a scatter plot to reflect the change of pregnancy in adolescents over the years\n",
    "%matplotlib inline\n",
    "plt.scatter(x,ado_pregnancy)\n",
    "plt.xlabel('Year')\n",
    "plt.ylabel('Adolescent Pregnancy')\n",
    "plt.title('Adolescent Pregnancy over the years')"
   ]
  },
  {
   "cell_type": "markdown",
   "metadata": {},
   "source": [
    "#### Reading and cleaning internet growth data"
   ]
  },
  {
   "cell_type": "code",
   "execution_count": 4,
   "metadata": {
    "collapsed": false
   },
   "outputs": [
    {
     "name": "stdout",
     "output_type": "stream",
     "text": [
      "(7, 21)\n"
     ]
    }
   ],
   "source": [
    "# Read internet growth data\n",
    "internet= pd.read_csv('C:/Users/PAVILION/Documents/UDACITY_BERTLESMAN/Project/HackatonWomen/internet.csv', \n",
    "                        encoding='utf-8')\n",
    "clean_int= internet.drop(['Code'],axis=1)\n",
    "\n",
    "#Here we transform the dataset to get a visualization similar to first one\n",
    "#Only select years from 1996 to 2015 too\n",
    "\n",
    "asia= clean_int[clean_int.Entity == 'East Asia & Pacific']\n",
    "europe= clean_int[clean_int.Entity == 'Europe & Central Asia']\n",
    "latin= clean_int[clean_int.Entity == 'Latin America & Caribbean']\n",
    "africa= clean_int[clean_int.Entity == 'Middle East & North Africa']\n",
    "north= clean_int[clean_int.Entity == 'North America']\n",
    "south= clean_int[clean_int.Entity == 'South Asia']\n",
    "saharan= clean_int[clean_int.Entity == 'Sub-Saharan Africa']\n",
    "\n",
    "one= np.append('East Asia & Pacific',asia.values[4:,2])\n",
    "one=one.reshape(1,one.shape[0])\n",
    "two= np.append('Europe & Central Asia',europe.values[5:,2])\n",
    "two=two.reshape(1,two.shape[0])\n",
    "three= np.append('Latin America & Caribbean',latin.values[4:,2])\n",
    "three=three.reshape(1,three.shape[0])\n",
    "four= np.append('Middle East & North Africa',africa.values[2:,2])\n",
    "four=four.reshape(1,four.shape[0])\n",
    "five= np.append('North America',north.values[6:,2])\n",
    "five=five.reshape(1,five.shape[0])\n",
    "six= np.append('South Asia',south.values[4:,2])\n",
    "six=six.reshape(1,six.shape[0])\n",
    "seven= np.append('Sub-Saharan Africa',saharan.values[:,2])\n",
    "seven=seven.reshape(1,seven.shape[0])\n",
    "\n",
    "# Reaggregate the data\n",
    "todo= np.append(one,two,axis=0)\n",
    "todo=np.append(todo,three,axis=0)\n",
    "todo=np.append(todo,four,axis=0)\n",
    "todo=np.append(todo,five,axis=0)\n",
    "todo=np.append(todo,six,axis=0)\n",
    "todo=np.append(todo,seven,axis=0)\n",
    "print(todo.shape)"
   ]
  },
  {
   "cell_type": "code",
   "execution_count": 33,
   "metadata": {
    "collapsed": false
   },
   "outputs": [
    {
     "name": "stdout",
     "output_type": "stream",
     "text": [
      "['Region', 1996, 1997, 1998, 1999, 2000, 2001, 2002, 2003, 2004, 2005, 2006, 2007, 2008, 2009, 2010, 2011, 2012, 2013, 2014, 2015]\n"
     ]
    },
    {
     "data": {
      "text/plain": [
       "(7, 21)"
      ]
     },
     "execution_count": 33,
     "metadata": {},
     "output_type": "execute_result"
    }
   ],
   "source": [
    "# Create the new dataset that has the same format that the 'pregnancy in adolescents' one \n",
    "col=['Region']\n",
    "for i in range (1996,2016):\n",
    "    col.append(i)\n",
    "print(col)\n",
    "int_access= pd.DataFrame(todo,columns=col)\n",
    "int_access.shape"
   ]
  },
  {
   "cell_type": "code",
   "execution_count": 35,
   "metadata": {
    "collapsed": false
   },
   "outputs": [
    {
     "data": {
      "text/html": [
       "<div>\n",
       "<table border=\"1\" class=\"dataframe\">\n",
       "  <thead>\n",
       "    <tr style=\"text-align: right;\">\n",
       "      <th></th>\n",
       "      <th>Region</th>\n",
       "      <th>1996</th>\n",
       "      <th>1997</th>\n",
       "      <th>1998</th>\n",
       "      <th>1999</th>\n",
       "      <th>2000</th>\n",
       "      <th>2001</th>\n",
       "      <th>2002</th>\n",
       "      <th>2003</th>\n",
       "      <th>2004</th>\n",
       "      <th>...</th>\n",
       "      <th>2006</th>\n",
       "      <th>2007</th>\n",
       "      <th>2008</th>\n",
       "      <th>2009</th>\n",
       "      <th>2010</th>\n",
       "      <th>2011</th>\n",
       "      <th>2012</th>\n",
       "      <th>2013</th>\n",
       "      <th>2014</th>\n",
       "      <th>2015</th>\n",
       "    </tr>\n",
       "  </thead>\n",
       "  <tbody>\n",
       "    <tr>\n",
       "      <th>0</th>\n",
       "      <td>East Asia &amp; Pacific</td>\n",
       "      <td>9.1211e+06</td>\n",
       "      <td>2.14336e+07</td>\n",
       "      <td>3.77754e+07</td>\n",
       "      <td>6.90314e+07</td>\n",
       "      <td>1.14411e+08</td>\n",
       "      <td>1.49704e+08</td>\n",
       "      <td>1.87233e+08</td>\n",
       "      <td>2.21345e+08</td>\n",
       "      <td>2.66393e+08</td>\n",
       "      <td>...</td>\n",
       "      <td>3.56617e+08</td>\n",
       "      <td>4.48706e+08</td>\n",
       "      <td>5.4942e+08</td>\n",
       "      <td>6.46375e+08</td>\n",
       "      <td>7.54628e+08</td>\n",
       "      <td>8.2914e+08</td>\n",
       "      <td>9.10466e+08</td>\n",
       "      <td>9.94101e+08</td>\n",
       "      <td>1.05822e+09</td>\n",
       "      <td>1.1356e+09</td>\n",
       "    </tr>\n",
       "    <tr>\n",
       "      <th>1</th>\n",
       "      <td>Europe &amp; Central Asia</td>\n",
       "      <td>1.57961e+07</td>\n",
       "      <td>2.88556e+07</td>\n",
       "      <td>4.67419e+07</td>\n",
       "      <td>7.95861e+07</td>\n",
       "      <td>1.13651e+08</td>\n",
       "      <td>1.41667e+08</td>\n",
       "      <td>1.99506e+08</td>\n",
       "      <td>2.4605e+08</td>\n",
       "      <td>2.8155e+08</td>\n",
       "      <td>...</td>\n",
       "      <td>3.33382e+08</td>\n",
       "      <td>3.8364e+08</td>\n",
       "      <td>4.17657e+08</td>\n",
       "      <td>4.47801e+08</td>\n",
       "      <td>4.98934e+08</td>\n",
       "      <td>5.25517e+08</td>\n",
       "      <td>5.68226e+08</td>\n",
       "      <td>5.97322e+08</td>\n",
       "      <td>6.28357e+08</td>\n",
       "      <td>6.51397e+08</td>\n",
       "    </tr>\n",
       "    <tr>\n",
       "      <th>2</th>\n",
       "      <td>Latin America &amp; Caribbean</td>\n",
       "      <td>1.52634e+06</td>\n",
       "      <td>3.06266e+06</td>\n",
       "      <td>6.27591e+06</td>\n",
       "      <td>1.06362e+07</td>\n",
       "      <td>2.05299e+07</td>\n",
       "      <td>3.01451e+07</td>\n",
       "      <td>4.80722e+07</td>\n",
       "      <td>6.18815e+07</td>\n",
       "      <td>8.00107e+07</td>\n",
       "      <td>...</td>\n",
       "      <td>1.18301e+08</td>\n",
       "      <td>1.36831e+08</td>\n",
       "      <td>1.54885e+08</td>\n",
       "      <td>1.836e+08</td>\n",
       "      <td>2.07803e+08</td>\n",
       "      <td>2.38327e+08</td>\n",
       "      <td>2.64582e+08</td>\n",
       "      <td>2.86631e+08</td>\n",
       "      <td>3.05474e+08</td>\n",
       "      <td>3.44699e+08</td>\n",
       "    </tr>\n",
       "    <tr>\n",
       "      <th>3</th>\n",
       "      <td>Middle East &amp; North Africa</td>\n",
       "      <td>245630</td>\n",
       "      <td>676369</td>\n",
       "      <td>1.47662e+06</td>\n",
       "      <td>2.84009e+06</td>\n",
       "      <td>5.33506e+06</td>\n",
       "      <td>6.66944e+06</td>\n",
       "      <td>1.22939e+07</td>\n",
       "      <td>1.70995e+07</td>\n",
       "      <td>2.83797e+07</td>\n",
       "      <td>...</td>\n",
       "      <td>4.17354e+07</td>\n",
       "      <td>5.4382e+07</td>\n",
       "      <td>6.92237e+07</td>\n",
       "      <td>8.15282e+07</td>\n",
       "      <td>9.57863e+07</td>\n",
       "      <td>1.08924e+08</td>\n",
       "      <td>1.25403e+08</td>\n",
       "      <td>1.41692e+08</td>\n",
       "      <td>1.65314e+08</td>\n",
       "      <td>1.85348e+08</td>\n",
       "    </tr>\n",
       "    <tr>\n",
       "      <th>4</th>\n",
       "      <td>North America</td>\n",
       "      <td>4.62733e+07</td>\n",
       "      <td>6.34927e+07</td>\n",
       "      <td>9.058e+07</td>\n",
       "      <td>1.11092e+08</td>\n",
       "      <td>1.3734e+08</td>\n",
       "      <td>1.58569e+08</td>\n",
       "      <td>1.88422e+08</td>\n",
       "      <td>1.99351e+08</td>\n",
       "      <td>2.10753e+08</td>\n",
       "      <td>...</td>\n",
       "      <td>2.29296e+08</td>\n",
       "      <td>2.50049e+08</td>\n",
       "      <td>2.50579e+08</td>\n",
       "      <td>2.44852e+08</td>\n",
       "      <td>2.49117e+08</td>\n",
       "      <td>2.45897e+08</td>\n",
       "      <td>2.63516e+08</td>\n",
       "      <td>2.56106e+08</td>\n",
       "      <td>2.63777e+08</td>\n",
       "      <td>2.71351e+08</td>\n",
       "    </tr>\n",
       "  </tbody>\n",
       "</table>\n",
       "<p>5 rows × 21 columns</p>\n",
       "</div>"
      ],
      "text/plain": [
       "                       Region         1996         1997         1998  \\\n",
       "0         East Asia & Pacific   9.1211e+06  2.14336e+07  3.77754e+07   \n",
       "1       Europe & Central Asia  1.57961e+07  2.88556e+07  4.67419e+07   \n",
       "2   Latin America & Caribbean  1.52634e+06  3.06266e+06  6.27591e+06   \n",
       "3  Middle East & North Africa       245630       676369  1.47662e+06   \n",
       "4               North America  4.62733e+07  6.34927e+07    9.058e+07   \n",
       "\n",
       "          1999         2000         2001         2002         2003  \\\n",
       "0  6.90314e+07  1.14411e+08  1.49704e+08  1.87233e+08  2.21345e+08   \n",
       "1  7.95861e+07  1.13651e+08  1.41667e+08  1.99506e+08   2.4605e+08   \n",
       "2  1.06362e+07  2.05299e+07  3.01451e+07  4.80722e+07  6.18815e+07   \n",
       "3  2.84009e+06  5.33506e+06  6.66944e+06  1.22939e+07  1.70995e+07   \n",
       "4  1.11092e+08   1.3734e+08  1.58569e+08  1.88422e+08  1.99351e+08   \n",
       "\n",
       "          2004     ...              2006         2007         2008  \\\n",
       "0  2.66393e+08     ...       3.56617e+08  4.48706e+08   5.4942e+08   \n",
       "1   2.8155e+08     ...       3.33382e+08   3.8364e+08  4.17657e+08   \n",
       "2  8.00107e+07     ...       1.18301e+08  1.36831e+08  1.54885e+08   \n",
       "3  2.83797e+07     ...       4.17354e+07   5.4382e+07  6.92237e+07   \n",
       "4  2.10753e+08     ...       2.29296e+08  2.50049e+08  2.50579e+08   \n",
       "\n",
       "          2009         2010         2011         2012         2013  \\\n",
       "0  6.46375e+08  7.54628e+08   8.2914e+08  9.10466e+08  9.94101e+08   \n",
       "1  4.47801e+08  4.98934e+08  5.25517e+08  5.68226e+08  5.97322e+08   \n",
       "2    1.836e+08  2.07803e+08  2.38327e+08  2.64582e+08  2.86631e+08   \n",
       "3  8.15282e+07  9.57863e+07  1.08924e+08  1.25403e+08  1.41692e+08   \n",
       "4  2.44852e+08  2.49117e+08  2.45897e+08  2.63516e+08  2.56106e+08   \n",
       "\n",
       "          2014         2015  \n",
       "0  1.05822e+09   1.1356e+09  \n",
       "1  6.28357e+08  6.51397e+08  \n",
       "2  3.05474e+08  3.44699e+08  \n",
       "3  1.65314e+08  1.85348e+08  \n",
       "4  2.63777e+08  2.71351e+08  \n",
       "\n",
       "[5 rows x 21 columns]"
      ]
     },
     "execution_count": 35,
     "metadata": {},
     "output_type": "execute_result"
    }
   ],
   "source": [
    "# Visualize first rows of the clean dataset\n",
    "int_access.head()"
   ]
  },
  {
   "cell_type": "code",
   "execution_count": 7,
   "metadata": {
    "collapsed": false
   },
   "outputs": [
    {
     "data": {
      "text/plain": [
       "(20,)"
      ]
     },
     "execution_count": 7,
     "metadata": {},
     "output_type": "execute_result"
    }
   ],
   "source": [
    "#Getting the numpy array\n",
    "int_ac_values= int_access.values\n",
    "int_ac_values= np.sum(int_ac_values[:,1:],axis=0)\n",
    "int_ac_values.shape"
   ]
  },
  {
   "cell_type": "markdown",
   "metadata": {},
   "source": [
    "#### VISUALIZATION OF INTERNET GROWTH OVER THE YEARS"
   ]
  },
  {
   "cell_type": "code",
   "execution_count": 21,
   "metadata": {
    "collapsed": false
   },
   "outputs": [
    {
     "data": {
      "text/plain": [
       "Text(0.5,1,'Internet connection over the years')"
      ]
     },
     "execution_count": 21,
     "metadata": {},
     "output_type": "execute_result"
    },
    {
     "data": {
      "image/png": "[encoded data removed]",
      "text/plain": [
       "<Figure size 432x288 with 1 Axes>"
      ]
     },
     "metadata": {},
     "output_type": "display_data"
    }
   ],
   "source": [
    "# Make a scatter plot showing the growth of people with internet connection over the years\n",
    "\n",
    "x= [i for i in range(1996,2016)]\n",
    "%matplotlib inline\n",
    "plt.scatter(x,int_ac_values)\n",
    "plt.xlabel('Year')\n",
    "plt.ylabel('Population')\n",
    "plt.title('Internet connection over the years')"
   ]
  },
  {
   "cell_type": "markdown",
   "metadata": {},
   "source": [
    "#### Visualization of the two datasets"
   ]
  },
  {
   "cell_type": "code",
   "execution_count": 26,
   "metadata": {
    "collapsed": true
   },
   "outputs": [],
   "source": [
    "# To be able to show all information in bubble graph, re-scale the values of pregnancy in adolescents\n",
    "# The scale is 0.02\n",
    "size=[]\n",
    "for i in ado_pregnancy:\n",
    "    i=i/200  #A scale of 0.02 for the circles\n",
    "    i=int(round(i,0))\n",
    "    size.append(i)"
   ]
  },
  {
   "cell_type": "code",
   "execution_count": 29,
   "metadata": {
    "collapsed": false
   },
   "outputs": [
    {
     "data": {
      "text/html": [
       "<script>requirejs.config({paths: { 'plotly': ['https://cdn.plot.ly/plotly-latest.min']},});if(!window.Plotly) {{require(['plotly'],function(plotly) {window.Plotly=plotly;});}}</script>"
      ],
      "text/vnd.plotly.v1+html": [
       "<script>requirejs.config({paths: { 'plotly': ['https://cdn.plot.ly/plotly-latest.min']},});if(!window.Plotly) {{require(['plotly'],function(plotly) {window.Plotly=plotly;});}}</script>"
      ]
     },
     "metadata": {},
     "output_type": "display_data"
    },
    {
     "data": {
      "application/vnd.plotly.v1+json": {
       "data": [
        {
         "marker": {
          "size": [
           82,
           81,
           79,
           77,
           76,
           74,
           73,
           71,
           70,
           69,
           68,
           67,
           66,
           65,
           64,
           62,
           61,
           60,
           59,
           58
          ]
         },
         "mode": "markers",
         "type": "scatter",
         "uid": "d728aa88-98e7-11e8-9733-2016d81e75bb",
         "x": [
          1996,
          1997,
          1998,
          1999,
          2000,
          2001,
          2002,
          2003,
          2004,
          2005,
          2006,
          2007,
          2008,
          2009,
          2010,
          2011,
          2012,
          2013,
          2014,
          2015
         ],
         "y": [
          73898664.03,
          119101010.19,
          185892988.4,
          278603450.1,
          401181591.8,
          500523745.5,
          662373470,
          780684367.5,
          910735381,
          1025409276,
          1148043714,
          1365082742,
          1558109700,
          1745800420,
          2009056024,
          2211705424,
          2459877168,
          2671651040,
          2943511168,
          3224603216
         ]
        }
       ],
       "layout": {}
      },
      "text/html": [
       "<div id=\"716dbd51-2613-4d77-8a43-aa644ee4c5d0\" style=\"height: 525px; width: 100%;\" class=\"plotly-graph-div\"></div><script type=\"text/javascript\">require([\"plotly\"], function(Plotly) { window.PLOTLYENV=window.PLOTLYENV || {};window.PLOTLYENV.BASE_URL=\"https://plot.ly\";Plotly.newPlot(\"716dbd51-2613-4d77-8a43-aa644ee4c5d0\", [{\"marker\": {\"size\": [82, 81, 79, 77, 76, 74, 73, 71, 70, 69, 68, 67, 66, 65, 64, 62, 61, 60, 59, 58]}, \"mode\": \"markers\", \"y\": [73898664.03, 119101010.19, 185892988.4, 278603450.1, 401181591.8, 500523745.5, 662373470.0, 780684367.5, 910735381.0, 1025409276.0, 1148043714.0, 1365082742.0, 1558109700.0, 1745800420.0, 2009056024.0, 2211705424.0, 2459877168.0, 2671651040.0, 2943511168.0, 3224603216.0], \"type\": \"scatter\", \"x\": [1996, 1997, 1998, 1999, 2000, 2001, 2002, 2003, 2004, 2005, 2006, 2007, 2008, 2009, 2010, 2011, 2012, 2013, 2014, 2015], \"uid\": \"d72cd566-98e7-11e8-b5b6-2016d81e75bb\"}], {}, {\"showLink\": true, \"linkText\": \"Export to plot.ly\"})});</script>"
      ],
      "text/vnd.plotly.v1+html": [
       "<div id=\"716dbd51-2613-4d77-8a43-aa644ee4c5d0\" style=\"height: 525px; width: 100%;\" class=\"plotly-graph-div\"></div><script type=\"text/javascript\">require([\"plotly\"], function(Plotly) { window.PLOTLYENV=window.PLOTLYENV || {};window.PLOTLYENV.BASE_URL=\"https://plot.ly\";Plotly.newPlot(\"716dbd51-2613-4d77-8a43-aa644ee4c5d0\", [{\"marker\": {\"size\": [82, 81, 79, 77, 76, 74, 73, 71, 70, 69, 68, 67, 66, 65, 64, 62, 61, 60, 59, 58]}, \"mode\": \"markers\", \"y\": [73898664.03, 119101010.19, 185892988.4, 278603450.1, 401181591.8, 500523745.5, 662373470.0, 780684367.5, 910735381.0, 1025409276.0, 1148043714.0, 1365082742.0, 1558109700.0, 1745800420.0, 2009056024.0, 2211705424.0, 2459877168.0, 2671651040.0, 2943511168.0, 3224603216.0], \"type\": \"scatter\", \"x\": [1996, 1997, 1998, 1999, 2000, 2001, 2002, 2003, 2004, 2005, 2006, 2007, 2008, 2009, 2010, 2011, 2012, 2013, 2014, 2015], \"uid\": \"d72cd566-98e7-11e8-b5b6-2016d81e75bb\"}], {}, {\"showLink\": true, \"linkText\": \"Export to plot.ly\"})});</script>"
      ]
     },
     "metadata": {},
     "output_type": "display_data"
    }
   ],
   "source": [
    "#Make a bubble graph using plotly, X will be the years, Y growth of internet and bubble size\n",
    "#adolescents' Pregnancy\n",
    "\n",
    "py.offline.init_notebook_mode(connected=True)\n",
    "trace0 = go.Scatter(\n",
    "    x=x,\n",
    "    y=int_ac_values,\n",
    "    mode='markers',\n",
    "    marker=dict(\n",
    "        size=size,\n",
    "    )\n",
    ")\n",
    "\n",
    "data = [trace0]\n",
    "layout = go.Layout(\n",
    "        title='Internet Connection VS. Adolescent Pregnancy Over the Years',\n",
    "    xaxis=dict(\n",
    "        title='Years 1996-2015',\n",
    "    ),\n",
    "    yaxis=dict(\n",
    "        title='Population with internet connection (Billions)',\n",
    "    ),showlegend=True)\n",
    "fig = go.Figure(data=data, layout=layout)\n",
    "\n",
    "py.offline.iplot(data, filename='InternetVsPregnancy')"
   ]
  },
  {
   "cell_type": "code",
   "execution_count": 23,
   "metadata": {
    "collapsed": false
   },
   "outputs": [
    {
     "data": {
      "text/plain": [
       "Text(0.5,1,'Internet connection vs. adolescent pregnancy')"
      ]
     },
     "execution_count": 23,
     "metadata": {},
     "output_type": "execute_result"
    },
    {
     "data": {
      "image/png": "[encoded data removed]",
      "text/plain": [
       "<Figure size 432x288 with 1 Axes>"
      ]
     },
     "metadata": {},
     "output_type": "display_data"
    }
   ],
   "source": [
    "#Also show a scatter plot of internet growth vs. adolescent pregnancy withouth showing the years\n",
    "\n",
    "plt.scatter(int_ac_values,ado_pregnancy)\n",
    "plt.xlabel('Population with internet connection (billions)')\n",
    "plt.ylabel('Adolescent pregnancy')\n",
    "plt.title('Internet connection vs. adolescent pregnancy')"
   ]
  },
  {
   "cell_type": "markdown",
   "metadata": {},
   "source": [
    "The images show a correlation bewtween internet growth and adolescent fertility rate. An increase in the population with access to internet correlates with a decrease in pregnancy rates in adolescents.\n",
    "Possible explanation would be that women can have better information about this topic thanks to internet; however, we cannot prove causation."
   ]
  },
  {
   "cell_type": "markdown",
   "metadata": {},
   "source": [
    "Resources:\n",
    "    * Growth of internet data: https://ourworldindata.org/internet\n",
    "    * Adolescent fertility rate data: https://data.worldbank.org/indicator/SP.ADO.TFR"
   ]
  },
  {
   "cell_type": "code",
   "execution_count": null,
   "metadata": {
    "collapsed": true
   },
   "outputs": [],
   "source": []
  }
 ],
 "metadata": {
  "kernelspec": {
   "display_name": "Python [default]",
   "language": "python",
   "name": "python3"
  },
  "language_info": {
   "codemirror_mode": {
    "name": "ipython",
    "version": 3
   },
   "file_extension": ".py",
   "mimetype": "text/x-python",
   "name": "python",
   "nbconvert_exporter": "python",
   "pygments_lexer": "ipython3",
   "version": "3.5.5"
  }
 },
 "nbformat": 4,
 "nbformat_minor": 2
}
